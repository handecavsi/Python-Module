{
 "cells": [
  {
   "cell_type": "markdown",
   "id": "c557adef",
   "metadata": {},
   "source": [
    "# Functions\n",
    "\n",
    "* They are pieces of code intended to perform specific tasks."
   ]
  },
  {
   "cell_type": "markdown",
   "id": "b9619659",
   "metadata": {},
   "source": [
    "**Function reading-Wrting** \n",
    "\n",
    "* With \"?print\" comes the relevant information and arguments of the function.\n",
    "* arg: are sub-taskers who aim to fulfill the duties of functions.\n",
    "* docstring : all arguments have documentation and it is called docstring."
   ]
  },
  {
   "cell_type": "code",
   "execution_count": 1,
   "id": "068bc04b",
   "metadata": {},
   "outputs": [
    {
     "name": "stdout",
     "output_type": "stream",
     "text": [
      "a\n"
     ]
    }
   ],
   "source": [
    "print(\"a\")"
   ]
  },
  {
   "cell_type": "code",
   "execution_count": 2,
   "id": "3df60ac7",
   "metadata": {},
   "outputs": [],
   "source": [
    "?print"
   ]
  },
  {
   "cell_type": "code",
   "execution_count": 3,
   "id": "0fc7cf76",
   "metadata": {},
   "outputs": [
    {
     "name": "stdout",
     "output_type": "stream",
     "text": [
      "Help on built-in function print in module builtins:\n",
      "\n",
      "print(...)\n",
      "    print(value, ..., sep=' ', end='\\n', file=sys.stdout, flush=False)\n",
      "    \n",
      "    Prints the values to a stream, or to sys.stdout by default.\n",
      "    Optional keyword arguments:\n",
      "    file:  a file-like object (stream); defaults to the current sys.stdout.\n",
      "    sep:   string inserted between values, default a space.\n",
      "    end:   string appended after the last value, default a newline.\n",
      "    flush: whether to forcibly flush the stream.\n",
      "\n"
     ]
    }
   ],
   "source": [
    "help(\"print\")"
   ]
  },
  {
   "cell_type": "code",
   "execution_count": 4,
   "id": "07d8a41d",
   "metadata": {},
   "outputs": [
    {
     "name": "stdout",
     "output_type": "stream",
     "text": [
      "a b\n"
     ]
    }
   ],
   "source": [
    "# sep : leaves a space or inserts an expression (-,/,--..)\n",
    "\n",
    "print(\"a\", \"b\")"
   ]
  },
  {
   "cell_type": "code",
   "execution_count": 6,
   "id": "04efcb5c",
   "metadata": {},
   "outputs": [
    {
     "name": "stdout",
     "output_type": "stream",
     "text": [
      "a--b\n"
     ]
    }
   ],
   "source": [
    "print(\"a\",\"b\", sep = \"--\")"
   ]
  },
  {
   "cell_type": "code",
   "execution_count": 8,
   "id": "7038f33d",
   "metadata": {},
   "outputs": [
    {
     "data": {
      "text/plain": [
       "65"
      ]
     },
     "execution_count": 8,
     "metadata": {},
     "output_type": "execute_result"
    }
   ],
   "source": [
    "13 * 5"
   ]
  },
  {
   "cell_type": "code",
   "execution_count": 10,
   "id": "edb6e5dc",
   "metadata": {},
   "outputs": [],
   "source": [
    "# Let's write a function that will multiply the entered numbers by 2.\n",
    "\n",
    "def calculate(x):\n",
    "    #body \n",
    "    print(x * 2)"
   ]
  },
  {
   "cell_type": "code",
   "execution_count": 11,
   "id": "ccce77ac",
   "metadata": {},
   "outputs": [
    {
     "name": "stdout",
     "output_type": "stream",
     "text": [
      "10\n"
     ]
    }
   ],
   "source": [
    "calculate(5) # I have to put a number instead of x so that it multiplies by 2. "
   ]
  },
  {
   "cell_type": "code",
   "execution_count": 12,
   "id": "6bc20678",
   "metadata": {},
   "outputs": [],
   "source": [
    "# Let's write a function with two arguments / parameters.\n",
    "\n",
    "def summer(arg1, arg2):\n",
    "    \n",
    "    # ne iş yapacak \n",
    "    print(arg1 + arg2)"
   ]
  },
  {
   "cell_type": "code",
   "execution_count": 13,
   "id": "c5c3a96d",
   "metadata": {},
   "outputs": [
    {
     "name": "stdout",
     "output_type": "stream",
     "text": [
      "18\n"
     ]
    }
   ],
   "source": [
    "summer(13,5)"
   ]
  },
  {
   "cell_type": "code",
   "execution_count": 14,
   "id": "8899b985",
   "metadata": {},
   "outputs": [],
   "source": [
    "def say_hi(): \n",
    "    print(\"merhaba\")\n",
    "    print(\"bugün\")"
   ]
  },
  {
   "cell_type": "code",
   "execution_count": 15,
   "id": "81608f72",
   "metadata": {},
   "outputs": [
    {
     "name": "stdout",
     "output_type": "stream",
     "text": [
      "merhaba\n",
      "bugün\n"
     ]
    }
   ],
   "source": [
    "say_hi()"
   ]
  },
  {
   "cell_type": "markdown",
   "id": "5bdca7a5",
   "metadata": {},
   "source": [
    "**Section of Functions' statement body**"
   ]
  },
  {
   "cell_type": "code",
   "execution_count": 1,
   "id": "d8fce157",
   "metadata": {},
   "outputs": [],
   "source": [
    "def say_hi(string):\n",
    "    print(string)\n",
    "    print(\"merhaba\")"
   ]
  },
  {
   "cell_type": "code",
   "execution_count": 3,
   "id": "a0348b41",
   "metadata": {},
   "outputs": [
    {
     "name": "stdout",
     "output_type": "stream",
     "text": [
      "Hande\n",
      "merhaba\n"
     ]
    }
   ],
   "source": [
    "say_hi('Hande')"
   ]
  },
  {
   "cell_type": "code",
   "execution_count": 4,
   "id": "a7d535aa",
   "metadata": {},
   "outputs": [],
   "source": [
    "def carpma(a,b):\n",
    "    c = a * b\n",
    "    print(c)"
   ]
  },
  {
   "cell_type": "code",
   "execution_count": 5,
   "id": "3803d042",
   "metadata": {},
   "outputs": [
    {
     "name": "stdout",
     "output_type": "stream",
     "text": [
      "133\n"
     ]
    }
   ],
   "source": [
    "carpma(19,7)"
   ]
  },
  {
   "cell_type": "code",
   "execution_count": 6,
   "id": "58b7a531",
   "metadata": {},
   "outputs": [],
   "source": [
    "list_store = [] \n",
    "\n",
    "# definiton : tanımlamak , yapacağımız işlemlerde isimlendirmeyi kendimiz istediğimiz şekilde kullanırız.\n",
    "def add_element(a,b): \n",
    "    c = a * b\n",
    "    list_store.append(c)\n",
    "    print(list_store)"
   ]
  },
  {
   "cell_type": "code",
   "execution_count": 7,
   "id": "f8b800c3",
   "metadata": {},
   "outputs": [
    {
     "name": "stdout",
     "output_type": "stream",
     "text": [
      "[6]\n"
     ]
    }
   ],
   "source": [
    "add_element(1,6)"
   ]
  },
  {
   "cell_type": "code",
   "execution_count": 8,
   "id": "86d60fea",
   "metadata": {},
   "outputs": [
    {
     "name": "stdout",
     "output_type": "stream",
     "text": [
      "[6, 28]\n"
     ]
    }
   ],
   "source": [
    "add_element(4,7)"
   ]
  },
  {
   "cell_type": "markdown",
   "id": "45903fd4",
   "metadata": {},
   "source": [
    "**Default Arguments / Parameters: (Default Parameters / Arguments)**"
   ]
  },
  {
   "cell_type": "code",
   "execution_count": 9,
   "id": "f1b106ad",
   "metadata": {},
   "outputs": [],
   "source": [
    "def bölme(a,b): \n",
    "    print(a / b)"
   ]
  },
  {
   "cell_type": "code",
   "execution_count": 10,
   "id": "c0974c36",
   "metadata": {},
   "outputs": [
    {
     "name": "stdout",
     "output_type": "stream",
     "text": [
      "1 3\n"
     ]
    }
   ],
   "source": [
    "print(1,3)"
   ]
  },
  {
   "cell_type": "code",
   "execution_count": 11,
   "id": "766061db",
   "metadata": {},
   "outputs": [],
   "source": [
    "# ön tanımlı değerler değiştirilebilir\n",
    "\n",
    "def say_hello(string = \"merhaba\"):\n",
    "    print(string)\n",
    "    print(\"hi\")\n",
    "    print(\"hande\")"
   ]
  },
  {
   "cell_type": "code",
   "execution_count": 12,
   "id": "250cdd6d",
   "metadata": {},
   "outputs": [
    {
     "name": "stdout",
     "output_type": "stream",
     "text": [
      "merhaba\n",
      "hi\n",
      "hande\n"
     ]
    }
   ],
   "source": [
    "say_hello()"
   ]
  },
  {
   "cell_type": "code",
   "execution_count": 13,
   "id": "621629cd",
   "metadata": {},
   "outputs": [
    {
     "name": "stdout",
     "output_type": "stream",
     "text": [
      "naber\n",
      "hi\n",
      "hande\n"
     ]
    }
   ],
   "source": [
    "# değiştirilebilirlik \n",
    "\n",
    "say_hello(\"naber\")"
   ]
  },
  {
   "cell_type": "markdown",
   "id": "101c163e",
   "metadata": {},
   "source": [
    "When to write a function?\n",
    "\n",
    "Let's say that information such as heat, humidity and charge comes from the street lamps. We want to make some calculations using the incoming information.\n",
    "\n",
    "Writing them functionally instead of writing them one by one will waste less time (don't repeat yourself)."
   ]
  },
  {
   "cell_type": "code",
   "execution_count": null,
   "id": "c9b2f155",
   "metadata": {},
   "outputs": [],
   "source": []
  },
  {
   "cell_type": "code",
   "execution_count": 29,
   "id": "771775a9",
   "metadata": {},
   "outputs": [
    {
     "data": {
      "text/plain": [
       "1.88"
      ]
     },
     "execution_count": 29,
     "metadata": {},
     "output_type": "execute_result"
    }
   ],
   "source": [
    "(54 + 40) / 50"
   ]
  },
  {
   "cell_type": "code",
   "execution_count": 30,
   "id": "fe38b253",
   "metadata": {},
   "outputs": [],
   "source": [
    "# functional \n",
    "\n",
    "def hesapla(nem,ısı, şarj):\n",
    "    print((nem + ısı) / şarj)"
   ]
  },
  {
   "cell_type": "code",
   "execution_count": 31,
   "id": "5a0506fd",
   "metadata": {},
   "outputs": [
    {
     "name": "stdout",
     "output_type": "stream",
     "text": [
      "1.146067415730337\n"
     ]
    }
   ],
   "source": [
    "# pazartesi günü şarj durumu / ısı durumu gibi \n",
    "\n",
    "hesapla(35,67,89)"
   ]
  },
  {
   "cell_type": "code",
   "execution_count": null,
   "id": "8123aab2",
   "metadata": {},
   "outputs": [],
   "source": []
  },
  {
   "cell_type": "markdown",
   "id": "9166b8ec",
   "metadata": {},
   "source": [
    "### Return\n",
    "Using function outputs as input\n",
    "\n",
    "### Print vs Return\n",
    "\n",
    "return and print are words that have two different functions in the Python language. Below we can talk about the differences between these two words:\n",
    "\n",
    "**return:** This word means that a function returns a value after it completes its execution. For example, after performing a calculation within a function, you use the return word to return the result of the calculation.\n",
    "\n",
    "**print:** This word prints an expression to the screen. For example, you use the word print to print the value of a variable to the screen."
   ]
  },
  {
   "attachments": {
    "image.png": {
     "image/png": "[encoded data removed]"
    }
   },
   "cell_type": "markdown",
   "id": "88b9ae56",
   "metadata": {},
   "source": [
    "![image.png](attachment:image.png)"
   ]
  },
  {
   "cell_type": "code",
   "execution_count": 14,
   "id": "ddce3cc8",
   "metadata": {},
   "outputs": [],
   "source": [
    "def topla1(x, y):\n",
    "    sonuc = x + y\n",
    "    return sonuc"
   ]
  },
  {
   "cell_type": "code",
   "execution_count": 15,
   "id": "5940c329",
   "metadata": {},
   "outputs": [
    {
     "name": "stdout",
     "output_type": "stream",
     "text": [
      "15\n"
     ]
    }
   ],
   "source": [
    "print(topla1(10,5))"
   ]
  },
  {
   "cell_type": "code",
   "execution_count": 34,
   "id": "17c7f4e9",
   "metadata": {},
   "outputs": [
    {
     "data": {
      "text/plain": [
       "1.2727272727272727"
      ]
     },
     "execution_count": 34,
     "metadata": {},
     "output_type": "execute_result"
    }
   ],
   "source": [
    "def hesapla(nem, ısı, şarj):\n",
    "    return((nem + ısı) / şarj) # argümanlara hangi işlemleri yaptıracaksın\n",
    "\n",
    "hesapla(45,67,88)"
   ]
  },
  {
   "cell_type": "code",
   "execution_count": null,
   "id": "aff918a6",
   "metadata": {},
   "outputs": [],
   "source": []
  },
  {
   "cell_type": "markdown",
   "id": "034db89a",
   "metadata": {},
   "source": [
    "### Koşullar (conditions)\n",
    "\n",
    "designs how code should behave based on certain conditions"
   ]
  },
  {
   "cell_type": "code",
   "execution_count": 35,
   "id": "44dc5d66",
   "metadata": {},
   "outputs": [
    {
     "data": {
      "text/plain": [
       "True"
      ]
     },
     "execution_count": 35,
     "metadata": {},
     "output_type": "execute_result"
    }
   ],
   "source": [
    "# true - false\n",
    "# bool\n",
    "1 == 1"
   ]
  },
  {
   "cell_type": "code",
   "execution_count": 36,
   "id": "80c3932e",
   "metadata": {},
   "outputs": [
    {
     "data": {
      "text/plain": [
       "False"
      ]
     },
     "execution_count": 36,
     "metadata": {},
     "output_type": "execute_result"
    }
   ],
   "source": [
    "1 == 2"
   ]
  },
  {
   "cell_type": "code",
   "execution_count": 16,
   "id": "fc54de18",
   "metadata": {},
   "outputs": [
    {
     "name": "stdout",
     "output_type": "stream",
     "text": [
      "true\n"
     ]
    }
   ],
   "source": [
    "# if else \n",
    "\n",
    "if 1 == 1: \n",
    "    print(\"true\")\n",
    "else:\n",
    "    print(\"false\")"
   ]
  },
  {
   "cell_type": "code",
   "execution_count": 17,
   "id": "0e0b1d2a",
   "metadata": {},
   "outputs": [
    {
     "name": "stdout",
     "output_type": "stream",
     "text": [
      "false\n"
     ]
    }
   ],
   "source": [
    "\n",
    "if 1 == 2: \n",
    "    print(\"true\")\n",
    "else:\n",
    "    print(\"false\")"
   ]
  },
  {
   "cell_type": "code",
   "execution_count": 18,
   "id": "3d6e6748",
   "metadata": {},
   "outputs": [
    {
     "name": "stdout",
     "output_type": "stream",
     "text": [
      "number is not 10\n"
     ]
    }
   ],
   "source": [
    "number = 13\n",
    "\n",
    "if number == 10: \n",
    "    print(\"number is 10\")\n",
    "else: \n",
    "    print(\"number is not 10\")"
   ]
  },
  {
   "cell_type": "markdown",
   "id": "6b129cb9",
   "metadata": {},
   "source": [
    "Don't repeat yourself. write function"
   ]
  },
  {
   "cell_type": "code",
   "execution_count": 19,
   "id": "3f494330",
   "metadata": {},
   "outputs": [],
   "source": [
    "def number_check(number):\n",
    "    if number == 10: \n",
    "        print(\"number is 10\")\n",
    "    else: \n",
    "        print(\"number is not 10\")"
   ]
  },
  {
   "cell_type": "code",
   "execution_count": 20,
   "id": "6e9f2f18",
   "metadata": {},
   "outputs": [
    {
     "name": "stdout",
     "output_type": "stream",
     "text": [
      "number is 10\n"
     ]
    }
   ],
   "source": [
    "number_check(10)"
   ]
  },
  {
   "cell_type": "code",
   "execution_count": 21,
   "id": "e69c27c0",
   "metadata": {},
   "outputs": [
    {
     "name": "stdout",
     "output_type": "stream",
     "text": [
      "number is not 10\n"
     ]
    }
   ],
   "source": [
    "number_check(11111)"
   ]
  },
  {
   "cell_type": "code",
   "execution_count": 22,
   "id": "1aede4ff",
   "metadata": {},
   "outputs": [],
   "source": [
    "\n",
    "def number_check(number):\n",
    "    if number > 10: \n",
    "        print(\"bigger than 10\") \n",
    "    \n",
    "    elif number < 10: \n",
    "        print(\"smaller than 10\")\n",
    "    \n",
    "    else: \n",
    "        print(\"number equals 10\")"
   ]
  },
  {
   "cell_type": "code",
   "execution_count": 23,
   "id": "e4e136d6",
   "metadata": {},
   "outputs": [
    {
     "name": "stdout",
     "output_type": "stream",
     "text": [
      "number equals 10\n"
     ]
    }
   ],
   "source": [
    "number_check(10)"
   ]
  },
  {
   "cell_type": "code",
   "execution_count": 24,
   "id": "f68adc0c",
   "metadata": {},
   "outputs": [
    {
     "name": "stdout",
     "output_type": "stream",
     "text": [
      "bigger than 10\n"
     ]
    }
   ],
   "source": [
    "number_check(111)"
   ]
  },
  {
   "cell_type": "code",
   "execution_count": 25,
   "id": "245ea114",
   "metadata": {},
   "outputs": [
    {
     "name": "stdout",
     "output_type": "stream",
     "text": [
      "smaller than 10\n"
     ]
    }
   ],
   "source": [
    "number_check(7)"
   ]
  },
  {
   "cell_type": "markdown",
   "id": "095fe4a2",
   "metadata": {},
   "source": [
    "### Döngüler(Loops)\n",
    "\n",
    "* for\n",
    "* while\n"
   ]
  },
  {
   "cell_type": "code",
   "execution_count": 26,
   "id": "48901df3",
   "metadata": {},
   "outputs": [
    {
     "data": {
      "text/plain": [
       "'hande'"
      ]
     },
     "execution_count": 26,
     "metadata": {},
     "output_type": "execute_result"
    }
   ],
   "source": [
    "students = [\"hande\",\"ahmet\",\"selin\",\"sena\"]\n",
    "students[0]"
   ]
  },
  {
   "cell_type": "markdown",
   "id": "cc077a6d",
   "metadata": {},
   "source": [
    "### FOR"
   ]
  },
  {
   "cell_type": "code",
   "execution_count": 27,
   "id": "cdf82925",
   "metadata": {},
   "outputs": [
    {
     "name": "stdout",
     "output_type": "stream",
     "text": [
      "hande\n",
      "ahmet\n",
      "selin\n",
      "sena\n"
     ]
    }
   ],
   "source": [
    "# Lets write functional : for loop \n",
    "# for expected two things from us: 1. Why do you this loop? , 2. Wich name do you use?\n",
    "for student in students: \n",
    "    print(student)"
   ]
  },
  {
   "cell_type": "code",
   "execution_count": 28,
   "id": "99d14891",
   "metadata": {},
   "outputs": [
    {
     "name": "stdout",
     "output_type": "stream",
     "text": [
      "HANDE\n",
      "AHMET\n",
      "SELIN\n",
      "SENA\n"
     ]
    }
   ],
   "source": [
    "# UPPER CASE\n",
    "\n",
    "for student in students: \n",
    "    print(student.upper())"
   ]
  },
  {
   "cell_type": "code",
   "execution_count": 29,
   "id": "4ebbe67b",
   "metadata": {},
   "outputs": [
    {
     "name": "stdout",
     "output_type": "stream",
     "text": [
      "20000\n",
      "30000\n",
      "40000\n",
      "50000\n"
     ]
    }
   ],
   "source": [
    "\n",
    "salaries = [20000, 30000, 40000, 50000]\n",
    "\n",
    "for salary in salaries: \n",
    "    print(salary)"
   ]
  },
  {
   "cell_type": "code",
   "execution_count": 54,
   "id": "312e46a0",
   "metadata": {},
   "outputs": [
    {
     "name": "stdout",
     "output_type": "stream",
     "text": [
      "24000.0\n",
      "36000.0\n",
      "48000.0\n",
      "60000.0\n"
     ]
    }
   ],
   "source": [
    "# Let's give all employees a 20% raise.\n",
    "\n",
    "for salary in salaries: \n",
    "    print(salary * 20/100 + salary)"
   ]
  },
  {
   "cell_type": "code",
   "execution_count": 55,
   "id": "d9cdae8e",
   "metadata": {},
   "outputs": [
    {
     "data": {
      "text/plain": [
       "22000"
      ]
     },
     "execution_count": 55,
     "metadata": {},
     "output_type": "execute_result"
    }
   ],
   "source": [
    "def new_salary(salary, zam): \n",
    "    return int(salary * zam /100 + salary)\n",
    "\n",
    "new_salary(20000,10)"
   ]
  },
  {
   "cell_type": "code",
   "execution_count": 56,
   "id": "e5f2659b",
   "metadata": {},
   "outputs": [
    {
     "name": "stdout",
     "output_type": "stream",
     "text": [
      "23000\n",
      "34500\n",
      "46000\n",
      "57500\n"
     ]
    }
   ],
   "source": [
    "salaries2 = [20000, 30000, 40000, 50000]\n",
    " # for döngüsünü kullanarak tüm listeyi dahil edebileyim aksi halde hepsini tek tek hesaplayacaktım. \n",
    "    \n",
    "for salary in salaries2: \n",
    "    print(new_salary(salary,15))"
   ]
  },
  {
   "cell_type": "markdown",
   "id": "1e1f65f1",
   "metadata": {},
   "source": [
    "### Break & While & Continue\n",
    "\n",
    "*Break: stops when it reaches the relevant staff member.\n",
    "*Continue: skip, pass"
   ]
  },
  {
   "cell_type": "code",
   "execution_count": 58,
   "id": "21a5a8c0",
   "metadata": {},
   "outputs": [
    {
     "name": "stdout",
     "output_type": "stream",
     "text": [
      "20000\n",
      "30000\n"
     ]
    }
   ],
   "source": [
    "# break \n",
    "\n",
    "salaries = [20000, 30000, 40000, 50000]\n",
    "\n",
    "for salary in salaries: \n",
    "    if salary == 40000: \n",
    "        break\n",
    "    print(salary)\n"
   ]
  },
  {
   "cell_type": "code",
   "execution_count": 59,
   "id": "466595a6",
   "metadata": {},
   "outputs": [
    {
     "name": "stdout",
     "output_type": "stream",
     "text": [
      "20000\n",
      "40000\n",
      "50000\n"
     ]
    }
   ],
   "source": [
    "# continue \n",
    "\n",
    "for salary in salaries: \n",
    "    if salary == 30000:\n",
    "        continue\n",
    "    print(salary)"
   ]
  },
  {
   "cell_type": "code",
   "execution_count": null,
   "id": "540e546a",
   "metadata": {},
   "outputs": [],
   "source": []
  },
  {
   "cell_type": "code",
   "execution_count": null,
   "id": "237a8d17",
   "metadata": {},
   "outputs": [],
   "source": []
  },
  {
   "cell_type": "markdown",
   "id": "26622a1d",
   "metadata": {},
   "source": [
    "### While : "
   ]
  },
  {
   "cell_type": "code",
   "execution_count": 30,
   "id": "47b691fc",
   "metadata": {},
   "outputs": [
    {
     "name": "stdout",
     "output_type": "stream",
     "text": [
      "1\n",
      "2\n",
      "3\n",
      "4\n"
     ]
    }
   ],
   "source": [
    "number = 1 \n",
    "\n",
    "while number < 5:\n",
    "    print(number)\n",
    "    number +=1"
   ]
  },
  {
   "cell_type": "code",
   "execution_count": null,
   "id": "f94c9131",
   "metadata": {},
   "outputs": [],
   "source": []
  },
  {
   "cell_type": "markdown",
   "id": "372b33a7",
   "metadata": {},
   "source": [
    "### Enumerate : AUtomatic Conuter / Indexer ile for loop\n",
    "\n",
    "* işlem uygulanan listelerin index bilgisini takip etmek için kullanılır.\n",
    "*It is used to keep track of the index information of the lists that are processed."
   ]
  },
  {
   "cell_type": "code",
   "execution_count": 31,
   "id": "e625d22a",
   "metadata": {},
   "outputs": [
    {
     "name": "stdout",
     "output_type": "stream",
     "text": [
      "0 hande\n",
      "1 ahmet\n",
      "2 selin\n",
      "3 sena\n"
     ]
    }
   ],
   "source": [
    "# index bilgisine erişmek için kullanılır \n",
    "\n",
    "students = [\"hande\",\"ahmet\",\"selin\",\"sena\"] \n",
    "\n",
    "for index, student in enumerate(students):\n",
    "    print(index, student)"
   ]
  },
  {
   "cell_type": "code",
   "execution_count": null,
   "id": "bfeabaee",
   "metadata": {},
   "outputs": [],
   "source": []
  },
  {
   "cell_type": "markdown",
   "id": "4f689a29",
   "metadata": {},
   "source": [
    "### Zip\n",
    "\n",
    "* elimizde 3 farklı isimde liste var ve biz bu listelerin elamanlarını eşlemek yani beraber kullanmak istiyoruz"
   ]
  },
  {
   "cell_type": "code",
   "execution_count": 33,
   "id": "5e4a9e7e",
   "metadata": {},
   "outputs": [
    {
     "data": {
      "text/plain": [
       "[('hande', 'data', 30),\n",
       " ('ahmet', 'IT', 67),\n",
       " ('selin', 'security', 78),\n",
       " ('sena', 'business', 89)]"
      ]
     },
     "execution_count": 33,
     "metadata": {},
     "output_type": "execute_result"
    }
   ],
   "source": [
    "students = [\"hande\",\"ahmet\",\"selin\",\"sena\"] #list\n",
    "\n",
    "department = [\"data\", \"IT\", \"security\",\"business\"] #list\n",
    "\n",
    "yas = [30, 67, 78, 89] #list\n",
    "\n",
    "#list(zip(list1, list2, list3))\n",
    "\n",
    "list(zip(students, department, yas)) #zip concanate three lists with mapping."
   ]
  },
  {
   "cell_type": "code",
   "execution_count": null,
   "id": "265c1b9d",
   "metadata": {},
   "outputs": [],
   "source": []
  },
  {
   "cell_type": "markdown",
   "id": "f0cb7508",
   "metadata": {},
   "source": [
    "### Lambda & Map & Filter & Reduce\n",
    "\n",
    "* vector seviyesinden işlem yapmasına hitap eden araçlardır\n",
    "* en önemlisi \"lambda\"dır\n",
    "* lambdaya ek olarak \"apply\" dır burada yok ama lambda ile beraber kullanılır"
   ]
  },
  {
   "cell_type": "code",
   "execution_count": 63,
   "id": "1de5c87d",
   "metadata": {},
   "outputs": [
    {
     "data": {
      "text/plain": [
       "11"
      ]
     },
     "execution_count": 63,
     "metadata": {},
     "output_type": "execute_result"
    }
   ],
   "source": [
    "def summer(a,b):\n",
    "    return a + b\n",
    "\n",
    "summer(5,6)"
   ]
  },
  {
   "cell_type": "code",
   "execution_count": null,
   "id": "e90ff248",
   "metadata": {},
   "outputs": [],
   "source": []
  },
  {
   "cell_type": "markdown",
   "id": "73436086",
   "metadata": {},
   "source": [
    "**Lambda :** kullan at fonksiyonudur, bir kereliğine kullanabiliriz"
   ]
  },
  {
   "cell_type": "code",
   "execution_count": 64,
   "id": "1e37f52d",
   "metadata": {},
   "outputs": [],
   "source": [
    "# lambda fonksiyonunu içerisinde a ve b parametreleri var : ile toplar\n",
    "\n",
    "new_sum = lambda a,b : a + b # a and b arg intoduced with lambda and then gives calculation process."
   ]
  },
  {
   "cell_type": "code",
   "execution_count": 65,
   "id": "9744f8f7",
   "metadata": {},
   "outputs": [
    {
     "data": {
      "text/plain": [
       "102"
      ]
     },
     "execution_count": 65,
     "metadata": {},
     "output_type": "execute_result"
    }
   ],
   "source": [
    "new_sum(35,67)"
   ]
  },
  {
   "cell_type": "markdown",
   "id": "8f299646",
   "metadata": {},
   "source": [
    "**Map:** bize döngü yazmaktan kurtarır, nesne ver ve uygulamak istediğinizi ilet der ve işlemi yapar"
   ]
  },
  {
   "cell_type": "code",
   "execution_count": 38,
   "id": "278dad6b",
   "metadata": {},
   "outputs": [],
   "source": [
    "# eski yöntem \n",
    "\n",
    "salaries = [20000, 30000, 40000, 50000] \n",
    "\n",
    "def yeni_maas(x): \n",
    "    return x * 20 / 100 + x\n"
   ]
  },
  {
   "cell_type": "code",
   "execution_count": 67,
   "id": "c75bc27a",
   "metadata": {},
   "outputs": [
    {
     "data": {
      "text/plain": [
       "12000.0"
      ]
     },
     "execution_count": 67,
     "metadata": {},
     "output_type": "execute_result"
    }
   ],
   "source": [
    "yeni_maas(10000)"
   ]
  },
  {
   "cell_type": "code",
   "execution_count": 39,
   "id": "19ad00a4",
   "metadata": {},
   "outputs": [
    {
     "name": "stdout",
     "output_type": "stream",
     "text": [
      "24000.0\n",
      "36000.0\n",
      "48000.0\n",
      "60000.0\n"
     ]
    }
   ],
   "source": [
    "#yeni_maas fonksiyonunu salaries listesindeki her bir elemana\n",
    "#uygulamak istersek for yazmamız gerekir:\n",
    "\n",
    "for salary in salaries:\n",
    "    salary = yeni_maas(salary)\n",
    "    print(salary)"
   ]
  },
  {
   "cell_type": "code",
   "execution_count": 40,
   "id": "617e2373",
   "metadata": {},
   "outputs": [
    {
     "data": {
      "text/plain": [
       "[24000.0, 36000.0, 48000.0, 60000.0]"
      ]
     },
     "execution_count": 40,
     "metadata": {},
     "output_type": "execute_result"
    }
   ],
   "source": [
    "# New method: map\n",
    "#yeni_maas: for içinde kullanılcak fonksiyon.\n",
    "#salaries: yeni_maas fonksiyonu girdilerini içeren liste.\n",
    "#map kullanarak for yazmdan hesaplanan yeni zamlı maaşların her birini yazdırabiliriz. \n",
    "#list(map(X:function_name,Y:list_name))\n",
    "\n",
    "list(map(yeni_maas, salaries))"
   ]
  },
  {
   "cell_type": "code",
   "execution_count": null,
   "id": "1c28c2d2",
   "metadata": {},
   "outputs": [],
   "source": []
  },
  {
   "cell_type": "code",
   "execution_count": null,
   "id": "8969a9d2",
   "metadata": {},
   "outputs": [],
   "source": []
  },
  {
   "cell_type": "markdown",
   "id": "ab748398",
   "metadata": {},
   "source": [
    "**Filter**\n",
    "\n",
    "filtreleme yapar, kullanımı azdır"
   ]
  },
  {
   "cell_type": "code",
   "execution_count": 71,
   "id": "432da9f0",
   "metadata": {},
   "outputs": [
    {
     "data": {
      "text/plain": [
       "[1, 3, 5]"
      ]
     },
     "execution_count": 71,
     "metadata": {},
     "output_type": "execute_result"
    }
   ],
   "source": [
    "# lambda ile beraber kullanılır\n",
    "\n",
    "list_store = [1, 2, 3, 4, 5, 6] \n",
    "\n",
    "list(filter(lambda x: x % 2 == 1, list_store)) #önce x tanımlandı. Sonra x'İn 2 ile modundan 1 kalacak operasyonel\n",
    "                                        # işlemi kullanıldı. En son bu hangi liste üzerinde uygulanacak o yazıldı.\n",
    "    \n",
    "# Lambda fonksiyonlarda ve liste işlemlerinde argüman tanımlamayı ve operasyonel ve matematiksel işlemleri\n",
    "#tek satırda yazdırmayı sağlar. "
   ]
  },
  {
   "cell_type": "code",
   "execution_count": 72,
   "id": "e727d866",
   "metadata": {},
   "outputs": [
    {
     "data": {
      "text/plain": [
       "[2, 4, 6]"
      ]
     },
     "execution_count": 72,
     "metadata": {},
     "output_type": "execute_result"
    }
   ],
   "source": [
    "list(filter(lambda x: x % 2 == 0, list_store))"
   ]
  },
  {
   "cell_type": "markdown",
   "id": "92cc8aff",
   "metadata": {},
   "source": [
    "**Reduce**\n",
    "\n",
    "Indergemek\n",
    "reduce fonksiyonu, bağımsız değişkeninde geçirilen belirli bir işlevi , geçirilen dizide belirtilen tüm liste öğelerine uygulamak için kullanılır."
   ]
  },
  {
   "cell_type": "code",
   "execution_count": 73,
   "id": "587f845d",
   "metadata": {},
   "outputs": [
    {
     "data": {
      "text/plain": [
       "10"
      ]
     },
     "execution_count": 73,
     "metadata": {},
     "output_type": "execute_result"
    }
   ],
   "source": [
    "from functools import reduce \n",
    "list_store = [1,2,3,4] \n",
    "\n",
    "reduce(lambda a, b : a + b , list_store)"
   ]
  },
  {
   "cell_type": "code",
   "execution_count": null,
   "id": "48fcc2a4",
   "metadata": {},
   "outputs": [],
   "source": [
    "#function with lambda.\n",
    "new_sum = lambda a,b : a + b \n",
    "\n",
    "#filter with lambda\n",
    "list(filter(lambda x: x % 2 == 0, list_store))\n",
    "\n",
    "#reduce with lambda\n",
    "reduce(lambda a, b : a + b , list_store)\n"
   ]
  },
  {
   "cell_type": "markdown",
   "id": "f7abdc85",
   "metadata": {},
   "source": [
    "**Comprehension**\n",
    "\n",
    "**List Comprehensions**\n",
    "\n",
    "fazla satırda yazılan kodlar yerine işlemleri tek satırda yazmak"
   ]
  },
  {
   "attachments": {
    "image.png": {
     "image/png": "[encoded data removed]"
    }
   },
   "cell_type": "markdown",
   "id": "8469deba",
   "metadata": {},
   "source": [
    "![image.png](attachment:image.png)"
   ]
  },
  {
   "attachments": {
    "image.png": {
     "image/png": "[encoded data removed]"
    }
   },
   "cell_type": "markdown",
   "id": "d4dd12ba",
   "metadata": {},
   "source": [
    "![image.png](attachment:image.png)"
   ]
  },
  {
   "cell_type": "code",
   "execution_count": 41,
   "id": "3823b1a7",
   "metadata": {},
   "outputs": [
    {
     "name": "stdout",
     "output_type": "stream",
     "text": [
      "24000.0\n",
      "36000.0\n",
      "48000.0\n",
      "60000.0\n"
     ]
    }
   ],
   "source": [
    "# klasik yol \n",
    "\n",
    "salaries = [20000, 30000, 40000, 50000] \n",
    "\n",
    "for salary in salaries: \n",
    "    print(yeni_maas(salary))"
   ]
  },
  {
   "cell_type": "code",
   "execution_count": 42,
   "id": "de80dacc",
   "metadata": {},
   "outputs": [],
   "source": [
    "# zam yapılan işlemleri ayrı bir liste yapalım \n",
    "\n",
    "bos_liste = [] \n",
    "\n",
    "for salary in salaries: \n",
    "    bos_liste.append(yeni_maas(salary))"
   ]
  },
  {
   "cell_type": "code",
   "execution_count": 43,
   "id": "40b4373c",
   "metadata": {},
   "outputs": [
    {
     "data": {
      "text/plain": [
       "[24000.0, 36000.0, 48000.0, 60000.0]"
      ]
     },
     "execution_count": 43,
     "metadata": {},
     "output_type": "execute_result"
    }
   ],
   "source": [
    "bos_liste"
   ]
  },
  {
   "cell_type": "code",
   "execution_count": 44,
   "id": "41acbe99",
   "metadata": {},
   "outputs": [],
   "source": [
    "# yine klasik yoldan 2. şey eklemek istiyorum\n",
    "# if else li bir şey de ekle\n",
    "\n",
    "for salary in salaries: \n",
    "    if salary > 30000: \n",
    "        bos_liste.append(yeni_maas(salary)) \n",
    "    else: \n",
    "        bos_liste.append(yeni_maas(salary * 2)) "
   ]
  },
  {
   "cell_type": "code",
   "execution_count": 45,
   "id": "35d337db",
   "metadata": {},
   "outputs": [
    {
     "data": {
      "text/plain": [
       "[24000.0, 36000.0, 48000.0, 60000.0, 48000.0, 72000.0, 48000.0, 60000.0]"
      ]
     },
     "execution_count": 45,
     "metadata": {},
     "output_type": "execute_result"
    }
   ],
   "source": [
    "bos_liste"
   ]
  },
  {
   "cell_type": "code",
   "execution_count": 81,
   "id": "d9e6b028",
   "metadata": {},
   "outputs": [
    {
     "data": {
      "text/plain": [
       "[24000.0, 36000.0, 48000.0, 60000.0]"
      ]
     },
     "execution_count": 81,
     "metadata": {},
     "output_type": "execute_result"
    }
   ],
   "source": [
    "[yeni_maas(salary * 2) if salary < 3000 else yeni_maas(salary) for salary in salaries]"
   ]
  },
  {
   "cell_type": "code",
   "execution_count": null,
   "id": "849ac54d",
   "metadata": {},
   "outputs": [],
   "source": []
  },
  {
   "cell_type": "code",
   "execution_count": null,
   "id": "f7e5d95d",
   "metadata": {},
   "outputs": [],
   "source": [
    "# not : else var ise if bloğu ortada olur"
   ]
  },
  {
   "cell_type": "markdown",
   "id": "dffcdb54",
   "metadata": {},
   "source": [
    "## Interview Questions: "
   ]
  },
  {
   "cell_type": "markdown",
   "id": "12f63192",
   "metadata": {},
   "source": [
    "# Q 1\n",
    "\n",
    "\n",
    "Uygulama Mülakat Sorusu\n",
    "\n",
    "Amaç : aşağıdaki şekilde string değiştiren fonksiyon yazmak istiyoruz\n",
    "\n",
    "before : \"hi my name is John and i am learning python \"\n",
    "\n",
    "after : \"Hi mY NaMe iS JoHn aNd i aM Learning pYtHoN \"\n",
    "\n",
    "ipucu : çift index büyük, tek indexte küçük"
   ]
  },
  {
   "cell_type": "code",
   "execution_count": 46,
   "id": "de95cbc4",
   "metadata": {},
   "outputs": [
    {
     "name": "stdout",
     "output_type": "stream",
     "text": [
      "hi my name is John and i am learning python \n"
     ]
    }
   ],
   "source": [
    "print('hi my name is John and i am learning python ')"
   ]
  },
  {
   "cell_type": "code",
   "execution_count": 47,
   "id": "f8e6dbbd",
   "metadata": {},
   "outputs": [],
   "source": [
    "string = 'hi my name is John and i am learning python'"
   ]
  },
  {
   "cell_type": "code",
   "execution_count": 48,
   "id": "4dc4647f",
   "metadata": {},
   "outputs": [
    {
     "data": {
      "text/plain": [
       "'hi my name is John and i am learning python'"
      ]
     },
     "execution_count": 48,
     "metadata": {},
     "output_type": "execute_result"
    }
   ],
   "source": [
    "string"
   ]
  },
  {
   "cell_type": "code",
   "execution_count": 55,
   "id": "162807d7",
   "metadata": {},
   "outputs": [
    {
     "name": "stdout",
     "output_type": "stream",
     "text": [
      "Hi mY NaMe iS JoHn aNd i aM LeArNiNg pYtHoN\n"
     ]
    }
   ],
   "source": [
    "result_string = ''\n",
    "\n",
    "for index, value in enumerate(string):\n",
    "    #print('index:', index, 'value:', value)\n",
    "    if index % 2 == 0:\n",
    "        result_string += value.upper()\n",
    "    else:\n",
    "        result_string += value.lower()\n",
    "print(result_string)"
   ]
  },
  {
   "cell_type": "markdown",
   "id": "0f12eb48",
   "metadata": {},
   "source": [
    "# Q 2\n",
    "* divide_students fonksiyonunu yazınız\n",
    "* çift indexte yer alan öğrencileri bir listeye alınız\n",
    "* tek indexte yer alan öğrencileri başka bir listeye alınız\n",
    "* fakat bu iki liste tek bir liste olarak return olsun"
   ]
  },
  {
   "cell_type": "code",
   "execution_count": 77,
   "id": "65fa826c",
   "metadata": {},
   "outputs": [],
   "source": [
    "students = ['Hande', 'Arda', 'Ilke', 'Oznur', 'Semra', 'Elif']\n",
    "list1 = []\n",
    "list2 = []\n",
    "\n",
    "def divide_students():\n",
    "    for index, value in enumerate(students):\n",
    "        if index % 2 == 0:\n",
    "            list1.append(value.upper())\n",
    "        else:\n",
    "            list2.append(value.lower())\n",
    "    \n",
    "    return list(zip(list1,list2))\n"
   ]
  },
  {
   "cell_type": "code",
   "execution_count": 78,
   "id": "ba2932b3",
   "metadata": {},
   "outputs": [
    {
     "data": {
      "text/plain": [
       "[('HANDE', 'arda'), ('ILKE', 'oznur'), ('SEMRA', 'elif')]"
      ]
     },
     "execution_count": 78,
     "metadata": {},
     "output_type": "execute_result"
    }
   ],
   "source": [
    "divide_students()"
   ]
  },
  {
   "cell_type": "code",
   "execution_count": 79,
   "id": "bdd2b5c3",
   "metadata": {},
   "outputs": [],
   "source": [
    "students = ['Hande', 'Arda', 'Ilke', 'Oznur', 'Semra', 'Elif']\n",
    "list1 = []\n",
    "list2 = []\n",
    "\n",
    "def divide_students():\n",
    "    for index, value in enumerate(students):\n",
    "        if index % 2 == 0:\n",
    "            list1.append(value.upper())\n",
    "        else:\n",
    "            list2.append(value.lower())\n",
    "    \n",
    "    return list1 + list2"
   ]
  },
  {
   "cell_type": "code",
   "execution_count": 80,
   "id": "f0d50015",
   "metadata": {},
   "outputs": [
    {
     "data": {
      "text/plain": [
       "['HANDE', 'ILKE', 'SEMRA', 'arda', 'oznur', 'elif']"
      ]
     },
     "execution_count": 80,
     "metadata": {},
     "output_type": "execute_result"
    }
   ],
   "source": [
    "divide_students()"
   ]
  },
  {
   "cell_type": "markdown",
   "id": "79546e72",
   "metadata": {},
   "source": [
    "# Q 3\n",
    "Alternating Fonksiyonunu Enumerate ile yazılması\n",
    "\n",
    "öyle bir fonksiyon yazmalıyız ki \"çift\" olanları büyütsün \"tek\" olanları küçültsün"
   ]
  },
  {
   "cell_type": "code",
   "execution_count": 81,
   "id": "001576e6",
   "metadata": {},
   "outputs": [
    {
     "name": "stdout",
     "output_type": "stream",
     "text": [
      "['HANDE', 'arda', 'ILKE', 'oznur', 'SEMRA', 'elif']\n"
     ]
    }
   ],
   "source": [
    "students = ['Hande', 'Arda', 'Ilke', 'Oznur', 'Semra', 'Elif']\n",
    "\n",
    "def alternate_case_students():\n",
    "    result = []\n",
    "\n",
    "    for index, value in enumerate(students):\n",
    "        if index % 2 == 0:\n",
    "            result.append(value.upper())\n",
    "        else:\n",
    "            result.append(value.lower())\n",
    "\n",
    "    return result\n",
    "\n",
    "result = alternate_case_students()\n",
    "print(result)\n"
   ]
  },
  {
   "cell_type": "code",
   "execution_count": null,
   "id": "e59ba326",
   "metadata": {},
   "outputs": [],
   "source": []
  },
  {
   "cell_type": "code",
   "execution_count": null,
   "id": "095dc2e4",
   "metadata": {},
   "outputs": [],
   "source": []
  },
  {
   "cell_type": "code",
   "execution_count": null,
   "id": "9befb454",
   "metadata": {},
   "outputs": [],
   "source": []
  }
 ],
 "metadata": {
  "kernelspec": {
   "display_name": "Python 3 (ipykernel)",
   "language": "python",
   "name": "python3"
  },
  "language_info": {
   "codemirror_mode": {
    "name": "ipython",
    "version": 3
   },
   "file_extension": ".py",
   "mimetype": "text/x-python",
   "name": "python",
   "nbconvert_exporter": "python",
   "pygments_lexer": "ipython3",
   "version": "3.11.3"
  },
  "varInspector": {
   "cols": {
    "lenName": 16,
    "lenType": 16,
    "lenVar": 40
   },
   "kernels_config": {
    "python": {
     "delete_cmd_postfix": "",
     "delete_cmd_prefix": "del ",
     "library": "var_list.py",
     "varRefreshCmd": "print(var_dic_list())"
    },
    "r": {
     "delete_cmd_postfix": ") ",
     "delete_cmd_prefix": "rm(",
     "library": "var_list.r",
     "varRefreshCmd": "cat(var_dic_list()) "
    }
   },
   "types_to_exclude": [
    "module",
    "function",
    "builtin_function_or_method",
    "instance",
    "_Feature"
   ],
   "window_display": false
  }
 },
 "nbformat": 4,
 "nbformat_minor": 5
}
